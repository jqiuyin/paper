{
 "cells": [
  {
   "cell_type": "code",
   "execution_count": 56,
   "metadata": {},
   "outputs": [],
   "source": [
    "import networkx as nx\n",
    "import matplotlib.pyplot as plt\n",
    "import connectToAccess as source\n",
    "from readLabel import getScholarLabel\n",
    "from readLabel import getPoliticalLable\n",
    "from createGraph import CreateGraph\n",
    "import pandas as pd"
   ]
  },
  {
   "cell_type": "code",
   "execution_count": 57,
   "metadata": {},
   "outputs": [],
   "source": [
    "table=source.getData(start=1234,end=1367)\n",
    "scholarLabel=getScholarLabel()\n",
    "data=table[table[3].isin(scholarLabel)]\n",
    "scholarNetwork=CreateGraph(data)\n",
    "G=scholarNetwork.getGraph()"
   ]
  },
  {
   "cell_type": "code",
   "execution_count": 58,
   "metadata": {},
   "outputs": [],
   "source": [
    "from statistic import Statistic"
   ]
  },
  {
   "cell_type": "code",
   "execution_count": 59,
   "metadata": {},
   "outputs": [],
   "source": [
    "scholarStat=Statistic(G)"
   ]
  },
  {
   "cell_type": "code",
   "execution_count": 60,
   "metadata": {},
   "outputs": [],
   "source": [
    "degree=scholarStat.getDegreeCentrality()\n",
    "between=scholarStat.getBetweennessCentrality()\n",
    "close=scholarStat.getClosenessCentrality()"
   ]
  },
  {
   "cell_type": "code",
   "execution_count": 61,
   "metadata": {},
   "outputs": [],
   "source": [
    "scholarTable=pd.DataFrame([degree,between,close]).T\n",
    "scholarTable=scholarTable.sort_values(by=['度中心性','中介中心性','接近中心性'],ascending=False)"
   ]
  },
  {
   "cell_type": "code",
   "execution_count": 62,
   "metadata": {},
   "outputs": [],
   "source": [
    "table=source.getData(start=1234,end=1367)\n",
    "politicalLabel=getPoliticalLable()\n",
    "data=table[table[3].isin(politicalLabel)]\n",
    "politicalNetwork=CreateGraph(data)\n",
    "G=politicalNetwork.getGraph()"
   ]
  },
  {
   "cell_type": "code",
   "execution_count": 63,
   "metadata": {},
   "outputs": [],
   "source": [
    "politicalStat=Statistic(G)\n",
    "degree=politicalStat.getDegreeCentrality()\n",
    "between=politicalStat.getBetweennessCentrality()\n",
    "close=politicalStat.getClosenessCentrality()\n",
    "politicalTable=pd.DataFrame([degree,between,close]).T\n",
    "politicalTable=politicalTable.sort_values(by=['度中心性','中介中心性','接近中心性'],ascending=False)"
   ]
  },
  {
   "cell_type": "code",
   "execution_count": 64,
   "metadata": {},
   "outputs": [
    {
     "data": {
      "text/html": [
       "<div>\n",
       "<style scoped>\n",
       "    .dataframe tbody tr th:only-of-type {\n",
       "        vertical-align: middle;\n",
       "    }\n",
       "\n",
       "    .dataframe tbody tr th {\n",
       "        vertical-align: top;\n",
       "    }\n",
       "\n",
       "    .dataframe thead th {\n",
       "        text-align: right;\n",
       "    }\n",
       "</style>\n",
       "<table border=\"1\" class=\"dataframe\">\n",
       "  <thead>\n",
       "    <tr style=\"text-align: right;\">\n",
       "      <th></th>\n",
       "      <th>度中心性</th>\n",
       "      <th>中介中心性</th>\n",
       "      <th>接近中心性</th>\n",
       "    </tr>\n",
       "  </thead>\n",
       "  <tbody>\n",
       "    <tr>\n",
       "      <th>魏了翁</th>\n",
       "      <td>0.051225</td>\n",
       "      <td>0.119316</td>\n",
       "      <td>0.219312</td>\n",
       "    </tr>\n",
       "    <tr>\n",
       "      <th>吳澄</th>\n",
       "      <td>0.049740</td>\n",
       "      <td>0.111480</td>\n",
       "      <td>0.217697</td>\n",
       "    </tr>\n",
       "    <tr>\n",
       "      <th>劉克莊</th>\n",
       "      <td>0.043801</td>\n",
       "      <td>0.098780</td>\n",
       "      <td>0.211973</td>\n",
       "    </tr>\n",
       "    <tr>\n",
       "      <th>虞集</th>\n",
       "      <td>0.040831</td>\n",
       "      <td>0.253837</td>\n",
       "      <td>0.247322</td>\n",
       "    </tr>\n",
       "    <tr>\n",
       "      <th>方回</th>\n",
       "      <td>0.032665</td>\n",
       "      <td>0.071794</td>\n",
       "      <td>0.195352</td>\n",
       "    </tr>\n",
       "    <tr>\n",
       "      <th>楊維楨</th>\n",
       "      <td>0.030438</td>\n",
       "      <td>0.050123</td>\n",
       "      <td>0.191183</td>\n",
       "    </tr>\n",
       "    <tr>\n",
       "      <th>黃溍</th>\n",
       "      <td>0.025241</td>\n",
       "      <td>0.135479</td>\n",
       "      <td>0.227002</td>\n",
       "    </tr>\n",
       "    <tr>\n",
       "      <th>真德秀</th>\n",
       "      <td>0.023756</td>\n",
       "      <td>0.061345</td>\n",
       "      <td>0.174209</td>\n",
       "    </tr>\n",
       "    <tr>\n",
       "      <th>危素</th>\n",
       "      <td>0.023014</td>\n",
       "      <td>0.051274</td>\n",
       "      <td>0.216422</td>\n",
       "    </tr>\n",
       "    <tr>\n",
       "      <th>朱熹</th>\n",
       "      <td>0.020787</td>\n",
       "      <td>0.072391</td>\n",
       "      <td>0.199841</td>\n",
       "    </tr>\n",
       "  </tbody>\n",
       "</table>\n",
       "</div>"
      ],
      "text/plain": [
       "         度中心性     中介中心性     接近中心性\n",
       "魏了翁  0.051225  0.119316  0.219312\n",
       "吳澄   0.049740  0.111480  0.217697\n",
       "劉克莊  0.043801  0.098780  0.211973\n",
       "虞集   0.040831  0.253837  0.247322\n",
       "方回   0.032665  0.071794  0.195352\n",
       "楊維楨  0.030438  0.050123  0.191183\n",
       "黃溍   0.025241  0.135479  0.227002\n",
       "真德秀  0.023756  0.061345  0.174209\n",
       "危素   0.023014  0.051274  0.216422\n",
       "朱熹   0.020787  0.072391  0.199841"
      ]
     },
     "execution_count": 64,
     "metadata": {},
     "output_type": "execute_result"
    }
   ],
   "source": [
    "scholarTable.head(10)"
   ]
  },
  {
   "cell_type": "code",
   "execution_count": 65,
   "metadata": {},
   "outputs": [
    {
     "data": {
      "text/html": [
       "<div>\n",
       "<style scoped>\n",
       "    .dataframe tbody tr th:only-of-type {\n",
       "        vertical-align: middle;\n",
       "    }\n",
       "\n",
       "    .dataframe tbody tr th {\n",
       "        vertical-align: top;\n",
       "    }\n",
       "\n",
       "    .dataframe thead th {\n",
       "        text-align: right;\n",
       "    }\n",
       "</style>\n",
       "<table border=\"1\" class=\"dataframe\">\n",
       "  <thead>\n",
       "    <tr style=\"text-align: right;\">\n",
       "      <th></th>\n",
       "      <th>度中心性</th>\n",
       "      <th>中介中心性</th>\n",
       "      <th>接近中心性</th>\n",
       "    </tr>\n",
       "  </thead>\n",
       "  <tbody>\n",
       "    <tr>\n",
       "      <th>賈似道</th>\n",
       "      <td>0.152830</td>\n",
       "      <td>0.148187</td>\n",
       "      <td>0.170271</td>\n",
       "    </tr>\n",
       "    <tr>\n",
       "      <th>丁大全</th>\n",
       "      <td>0.054717</td>\n",
       "      <td>0.039180</td>\n",
       "      <td>0.122449</td>\n",
       "    </tr>\n",
       "    <tr>\n",
       "      <th>真德秀</th>\n",
       "      <td>0.039623</td>\n",
       "      <td>0.031146</td>\n",
       "      <td>0.088952</td>\n",
       "    </tr>\n",
       "    <tr>\n",
       "      <th>史嵩之</th>\n",
       "      <td>0.028302</td>\n",
       "      <td>0.036559</td>\n",
       "      <td>0.105108</td>\n",
       "    </tr>\n",
       "    <tr>\n",
       "      <th>史彌遠</th>\n",
       "      <td>0.022642</td>\n",
       "      <td>0.053174</td>\n",
       "      <td>0.120179</td>\n",
       "    </tr>\n",
       "    <tr>\n",
       "      <th>王惲</th>\n",
       "      <td>0.020755</td>\n",
       "      <td>0.000392</td>\n",
       "      <td>0.020755</td>\n",
       "    </tr>\n",
       "    <tr>\n",
       "      <th>文天祥</th>\n",
       "      <td>0.018868</td>\n",
       "      <td>0.012758</td>\n",
       "      <td>0.105450</td>\n",
       "    </tr>\n",
       "    <tr>\n",
       "      <th>魏了翁</th>\n",
       "      <td>0.018868</td>\n",
       "      <td>0.012698</td>\n",
       "      <td>0.100231</td>\n",
       "    </tr>\n",
       "    <tr>\n",
       "      <th>李全</th>\n",
       "      <td>0.015094</td>\n",
       "      <td>0.000250</td>\n",
       "      <td>0.015283</td>\n",
       "    </tr>\n",
       "    <tr>\n",
       "      <th>吳潛</th>\n",
       "      <td>0.013208</td>\n",
       "      <td>0.002029</td>\n",
       "      <td>0.110734</td>\n",
       "    </tr>\n",
       "  </tbody>\n",
       "</table>\n",
       "</div>"
      ],
      "text/plain": [
       "         度中心性     中介中心性     接近中心性\n",
       "賈似道  0.152830  0.148187  0.170271\n",
       "丁大全  0.054717  0.039180  0.122449\n",
       "真德秀  0.039623  0.031146  0.088952\n",
       "史嵩之  0.028302  0.036559  0.105108\n",
       "史彌遠  0.022642  0.053174  0.120179\n",
       "王惲   0.020755  0.000392  0.020755\n",
       "文天祥  0.018868  0.012758  0.105450\n",
       "魏了翁  0.018868  0.012698  0.100231\n",
       "李全   0.015094  0.000250  0.015283\n",
       "吳潛   0.013208  0.002029  0.110734"
      ]
     },
     "execution_count": 65,
     "metadata": {},
     "output_type": "execute_result"
    }
   ],
   "source": [
    "politicalTable.head(10)"
   ]
  },
  {
   "cell_type": "code",
   "execution_count": 66,
   "metadata": {},
   "outputs": [
    {
     "data": {
      "text/plain": [
       "27"
      ]
     },
     "execution_count": 66,
     "metadata": {},
     "output_type": "execute_result"
    }
   ],
   "source": [
    "interList=scholarTable.sort_values(by='度中心性',ascending=False).head(100).index.intersection(\n",
    "    politicalTable.sort_values(by='度中心性',ascending=False).head(100).index)\n",
    "len(interList)"
   ]
  },
  {
   "cell_type": "code",
   "execution_count": 67,
   "metadata": {},
   "outputs": [
    {
     "data": {
      "text/plain": [
       "22"
      ]
     },
     "execution_count": 67,
     "metadata": {},
     "output_type": "execute_result"
    }
   ],
   "source": [
    "interList=scholarTable.sort_values(by='中介中心性',ascending=False).head(100).index.intersection(\n",
    "    politicalTable.sort_values(by='中介中心性',ascending=False).head(100).index)\n",
    "len(interList)"
   ]
  },
  {
   "cell_type": "code",
   "execution_count": 69,
   "metadata": {},
   "outputs": [
    {
     "data": {
      "text/plain": [
       "3"
      ]
     },
     "execution_count": 69,
     "metadata": {},
     "output_type": "execute_result"
    }
   ],
   "source": [
    "interList=scholarTable.sort_values(by='接近中心性',ascending=False).head(100).index.intersection(\n",
    "    politicalTable.sort_values(by='接近中心性',ascending=False).head(100).index)\n",
    "len(interList)"
   ]
  },
  {
   "cell_type": "code",
   "execution_count": 63,
   "metadata": {},
   "outputs": [
    {
     "name": "stdout",
     "output_type": "stream",
     "text": [
      "[0.3, 0.4, 0.27, 0.35, 0.36, 0.35, 0.34, 0.34, 0.36, 0.34, 0.35, 0.38, 0.37, 0.36, 0.36, 0.36, 0.34, 0.33, 0.33, 0.33, 0.33, 0.35, 0.35, 0.35, 0.36, 0.35, 0.35, 0.36, 0.36, 0.36, 0.35, 0.35, 0.35, 0.36, 0.36, 0.36, 0.36, 0.36, 0.36, 0.35, 0.36, 0.35, 0.37, 0.37, 0.36, 0.37, 0.37, 0.36, 0.36, 0.37, 0.37, 0.37, 0.37, 0.37, 0.37, 0.38, 0.37, 0.37, 0.37, 0.37, 0.37, 0.36, 0.36, 0.36, 0.36, 0.36, 0.36, 0.36, 0.36, 0.36, 0.36, 0.36, 0.36, 0.36, 0.36, 0.36, 0.36, 0.36, 0.36, 0.36, 0.36, 0.36, 0.36, 0.35, 0.35, 0.35, 0.35, 0.35, 0.35, 0.35, 0.35, 0.36, 0.35, 0.35, 0.35, 0.35, 0.35, 0.35, 0.35]\n"
     ]
    }
   ],
   "source": [
    "test=[]\n",
    "for i in range(10,1000,10):\n",
    "    interList=scholarTable.sort_values(by='度中心性',ascending=False).head(i).index.intersection(\n",
    "    politicalTable.sort_values(by='度中心性',ascending=False).head(i).index)\n",
    "    test.append(round(len(interList)/i,2))\n",
    "print(test)"
   ]
  },
  {
   "cell_type": "code",
   "execution_count": null,
   "metadata": {},
   "outputs": [],
   "source": []
  }
 ],
 "metadata": {
  "kernelspec": {
   "display_name": "Python 3",
   "language": "python",
   "name": "python3"
  },
  "language_info": {
   "codemirror_mode": {
    "name": "ipython",
    "version": 3
   },
   "file_extension": ".py",
   "mimetype": "text/x-python",
   "name": "python",
   "nbconvert_exporter": "python",
   "pygments_lexer": "ipython3",
   "version": "3.6.7"
  }
 },
 "nbformat": 4,
 "nbformat_minor": 2
}
