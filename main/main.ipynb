{
 "cells": [
  {
   "cell_type": "code",
   "execution_count": 50,
   "metadata": {},
   "outputs": [],
   "source": [
    "import networkx as nx\n",
    "import matplotlib.pyplot as plt\n",
    "import connectToAccess as source\n",
    "from readLabel import getScholarLabel\n",
    "from readLabel import getPoliticalLable\n",
    "from createGraph import CreateGraph\n",
    "import pandas as pd"
   ]
  },
  {
   "cell_type": "code",
   "execution_count": 51,
   "metadata": {},
   "outputs": [],
   "source": [
    "table=source.getData()\n",
    "scholarLabel=getScholarLabel()\n",
    "data=table[table[3].isin(scholarLabel)]\n",
    "scholarNetwork=CreateGraph(data)\n",
    "G=scholarNetwork.getGraph()"
   ]
  },
  {
   "cell_type": "code",
   "execution_count": 52,
   "metadata": {},
   "outputs": [],
   "source": [
    "from statistic import Statistic"
   ]
  },
  {
   "cell_type": "code",
   "execution_count": 53,
   "metadata": {},
   "outputs": [],
   "source": [
    "scholarStat=Statistic(G)"
   ]
  },
  {
   "cell_type": "code",
   "execution_count": 54,
   "metadata": {},
   "outputs": [],
   "source": [
    "degree=scholarStat.getDegreeCentrality()\n",
    "between=scholarStat.getBetweennessCentrality()\n",
    "close=scholarStat.getClosenessCentrality()"
   ]
  },
  {
   "cell_type": "code",
   "execution_count": 55,
   "metadata": {},
   "outputs": [],
   "source": [
    "scholarTable=pd.DataFrame([degree,between,close]).T\n",
    "scholarTable=scholarTable.sort_values(by=['度中心性','中介中心性','接近中心性'],ascending=False)"
   ]
  },
  {
   "cell_type": "code",
   "execution_count": 56,
   "metadata": {},
   "outputs": [],
   "source": [
    "table=source.getData()\n",
    "politicalLabel=getPoliticalLable()\n",
    "data=table[table[3].isin(politicalLabel)]\n",
    "politicalNetwork=CreateGraph(data)\n",
    "G=politicalNetwork.getGraph()"
   ]
  },
  {
   "cell_type": "code",
   "execution_count": 57,
   "metadata": {},
   "outputs": [],
   "source": [
    "politicalStat=Statistic(G)\n",
    "degree=politicalStat.getDegreeCentrality()\n",
    "between=politicalStat.getBetweennessCentrality()\n",
    "close=politicalStat.getClosenessCentrality()\n",
    "politicalTable=pd.DataFrame([degree,between,close]).T\n",
    "politicalTable=politicalTable.sort_values(by=['度中心性','中介中心性','接近中心性'],ascending=False)"
   ]
  },
  {
   "cell_type": "code",
   "execution_count": 58,
   "metadata": {},
   "outputs": [
    {
     "data": {
      "text/html": [
       "<div>\n",
       "<style scoped>\n",
       "    .dataframe tbody tr th:only-of-type {\n",
       "        vertical-align: middle;\n",
       "    }\n",
       "\n",
       "    .dataframe tbody tr th {\n",
       "        vertical-align: top;\n",
       "    }\n",
       "\n",
       "    .dataframe thead th {\n",
       "        text-align: right;\n",
       "    }\n",
       "</style>\n",
       "<table border=\"1\" class=\"dataframe\">\n",
       "  <thead>\n",
       "    <tr style=\"text-align: right;\">\n",
       "      <th></th>\n",
       "      <th>度中心性</th>\n",
       "      <th>中介中心性</th>\n",
       "      <th>接近中心性</th>\n",
       "    </tr>\n",
       "  </thead>\n",
       "  <tbody>\n",
       "    <tr>\n",
       "      <th>朱熹</th>\n",
       "      <td>0.079635</td>\n",
       "      <td>0.196483</td>\n",
       "      <td>0.423622</td>\n",
       "    </tr>\n",
       "    <tr>\n",
       "      <th>周必大</th>\n",
       "      <td>0.047454</td>\n",
       "      <td>0.103201</td>\n",
       "      <td>0.394992</td>\n",
       "    </tr>\n",
       "    <tr>\n",
       "      <th>劉克莊</th>\n",
       "      <td>0.039866</td>\n",
       "      <td>0.080284</td>\n",
       "      <td>0.368539</td>\n",
       "    </tr>\n",
       "    <tr>\n",
       "      <th>蘇軾</th>\n",
       "      <td>0.039289</td>\n",
       "      <td>0.105970</td>\n",
       "      <td>0.400265</td>\n",
       "    </tr>\n",
       "    <tr>\n",
       "      <th>魏了翁</th>\n",
       "      <td>0.037944</td>\n",
       "      <td>0.074007</td>\n",
       "      <td>0.375448</td>\n",
       "    </tr>\n",
       "    <tr>\n",
       "      <th>黃庭堅</th>\n",
       "      <td>0.033814</td>\n",
       "      <td>0.071689</td>\n",
       "      <td>0.387702</td>\n",
       "    </tr>\n",
       "    <tr>\n",
       "      <th>樓鑰</th>\n",
       "      <td>0.031700</td>\n",
       "      <td>0.057548</td>\n",
       "      <td>0.373760</td>\n",
       "    </tr>\n",
       "    <tr>\n",
       "      <th>王安石</th>\n",
       "      <td>0.030836</td>\n",
       "      <td>0.061399</td>\n",
       "      <td>0.378695</td>\n",
       "    </tr>\n",
       "    <tr>\n",
       "      <th>歐陽修</th>\n",
       "      <td>0.028915</td>\n",
       "      <td>0.062655</td>\n",
       "      <td>0.386068</td>\n",
       "    </tr>\n",
       "    <tr>\n",
       "      <th>呂祖謙</th>\n",
       "      <td>0.026993</td>\n",
       "      <td>0.035197</td>\n",
       "      <td>0.351618</td>\n",
       "    </tr>\n",
       "  </tbody>\n",
       "</table>\n",
       "</div>"
      ],
      "text/plain": [
       "         度中心性     中介中心性     接近中心性\n",
       "朱熹   0.079635  0.196483  0.423622\n",
       "周必大  0.047454  0.103201  0.394992\n",
       "劉克莊  0.039866  0.080284  0.368539\n",
       "蘇軾   0.039289  0.105970  0.400265\n",
       "魏了翁  0.037944  0.074007  0.375448\n",
       "黃庭堅  0.033814  0.071689  0.387702\n",
       "樓鑰   0.031700  0.057548  0.373760\n",
       "王安石  0.030836  0.061399  0.378695\n",
       "歐陽修  0.028915  0.062655  0.386068\n",
       "呂祖謙  0.026993  0.035197  0.351618"
      ]
     },
     "execution_count": 58,
     "metadata": {},
     "output_type": "execute_result"
    }
   ],
   "source": [
    "scholarTable.head(10)"
   ]
  },
  {
   "cell_type": "code",
   "execution_count": 59,
   "metadata": {},
   "outputs": [
    {
     "data": {
      "text/html": [
       "<div>\n",
       "<style scoped>\n",
       "    .dataframe tbody tr th:only-of-type {\n",
       "        vertical-align: middle;\n",
       "    }\n",
       "\n",
       "    .dataframe tbody tr th {\n",
       "        vertical-align: top;\n",
       "    }\n",
       "\n",
       "    .dataframe thead th {\n",
       "        text-align: right;\n",
       "    }\n",
       "</style>\n",
       "<table border=\"1\" class=\"dataframe\">\n",
       "  <thead>\n",
       "    <tr style=\"text-align: right;\">\n",
       "      <th></th>\n",
       "      <th>度中心性</th>\n",
       "      <th>中介中心性</th>\n",
       "      <th>接近中心性</th>\n",
       "    </tr>\n",
       "  </thead>\n",
       "  <tbody>\n",
       "    <tr>\n",
       "      <th>秦檜</th>\n",
       "      <td>0.063226</td>\n",
       "      <td>0.175174</td>\n",
       "      <td>0.203831</td>\n",
       "    </tr>\n",
       "    <tr>\n",
       "      <th>蔡京</th>\n",
       "      <td>0.051290</td>\n",
       "      <td>0.152875</td>\n",
       "      <td>0.207477</td>\n",
       "    </tr>\n",
       "    <tr>\n",
       "      <th>王安石</th>\n",
       "      <td>0.033226</td>\n",
       "      <td>0.106155</td>\n",
       "      <td>0.204538</td>\n",
       "    </tr>\n",
       "    <tr>\n",
       "      <th>韓侂冑</th>\n",
       "      <td>0.031613</td>\n",
       "      <td>0.095333</td>\n",
       "      <td>0.181921</td>\n",
       "    </tr>\n",
       "    <tr>\n",
       "      <th>賈似道</th>\n",
       "      <td>0.026774</td>\n",
       "      <td>0.077830</td>\n",
       "      <td>0.157583</td>\n",
       "    </tr>\n",
       "    <tr>\n",
       "      <th>朱熹</th>\n",
       "      <td>0.025484</td>\n",
       "      <td>0.095248</td>\n",
       "      <td>0.186607</td>\n",
       "    </tr>\n",
       "    <tr>\n",
       "      <th>范祖禹</th>\n",
       "      <td>0.025161</td>\n",
       "      <td>0.032201</td>\n",
       "      <td>0.173820</td>\n",
       "    </tr>\n",
       "    <tr>\n",
       "      <th>楊萬里</th>\n",
       "      <td>0.024194</td>\n",
       "      <td>0.064632</td>\n",
       "      <td>0.188378</td>\n",
       "    </tr>\n",
       "    <tr>\n",
       "      <th>章惇</th>\n",
       "      <td>0.021613</td>\n",
       "      <td>0.035622</td>\n",
       "      <td>0.188429</td>\n",
       "    </tr>\n",
       "    <tr>\n",
       "      <th>歐陽修</th>\n",
       "      <td>0.021290</td>\n",
       "      <td>0.080650</td>\n",
       "      <td>0.198615</td>\n",
       "    </tr>\n",
       "  </tbody>\n",
       "</table>\n",
       "</div>"
      ],
      "text/plain": [
       "         度中心性     中介中心性     接近中心性\n",
       "秦檜   0.063226  0.175174  0.203831\n",
       "蔡京   0.051290  0.152875  0.207477\n",
       "王安石  0.033226  0.106155  0.204538\n",
       "韓侂冑  0.031613  0.095333  0.181921\n",
       "賈似道  0.026774  0.077830  0.157583\n",
       "朱熹   0.025484  0.095248  0.186607\n",
       "范祖禹  0.025161  0.032201  0.173820\n",
       "楊萬里  0.024194  0.064632  0.188378\n",
       "章惇   0.021613  0.035622  0.188429\n",
       "歐陽修  0.021290  0.080650  0.198615"
      ]
     },
     "execution_count": 59,
     "metadata": {},
     "output_type": "execute_result"
    }
   ],
   "source": [
    "politicalTable.head(10)"
   ]
  },
  {
   "cell_type": "code",
   "execution_count": 60,
   "metadata": {},
   "outputs": [
    {
     "data": {
      "text/plain": [
       "34"
      ]
     },
     "execution_count": 60,
     "metadata": {},
     "output_type": "execute_result"
    }
   ],
   "source": [
    "interList=scholarTable.sort_values(by='度中心性',ascending=False).head(100).index.intersection(\n",
    "    politicalTable.sort_values(by='度中心性',ascending=False).head(100).index)\n",
    "len(interList)"
   ]
  },
  {
   "cell_type": "code",
   "execution_count": 61,
   "metadata": {},
   "outputs": [
    {
     "data": {
      "text/plain": [
       "26"
      ]
     },
     "execution_count": 61,
     "metadata": {},
     "output_type": "execute_result"
    }
   ],
   "source": [
    "interList=scholarTable.sort_values(by='中介中心性',ascending=False).head(100).index.intersection(\n",
    "    politicalTable.sort_values(by='中介中心性',ascending=False).head(100).index)\n",
    "len(interList)"
   ]
  },
  {
   "cell_type": "code",
   "execution_count": 62,
   "metadata": {},
   "outputs": [
    {
     "data": {
      "text/plain": [
       "24"
      ]
     },
     "execution_count": 62,
     "metadata": {},
     "output_type": "execute_result"
    }
   ],
   "source": [
    "interList=scholarTable.sort_values(by='接近中心性',ascending=False).head(100).index.intersection(\n",
    "    politicalTable.sort_values(by='接近中心性',ascending=False).head(100).index)\n",
    "len(interList)"
   ]
  },
  {
   "cell_type": "code",
   "execution_count": 63,
   "metadata": {},
   "outputs": [
    {
     "name": "stdout",
     "output_type": "stream",
     "text": [
      "[0.3, 0.4, 0.27, 0.35, 0.36, 0.35, 0.34, 0.34, 0.36, 0.34, 0.35, 0.38, 0.37, 0.36, 0.36, 0.36, 0.34, 0.33, 0.33, 0.33, 0.33, 0.35, 0.35, 0.35, 0.36, 0.35, 0.35, 0.36, 0.36, 0.36, 0.35, 0.35, 0.35, 0.36, 0.36, 0.36, 0.36, 0.36, 0.36, 0.35, 0.36, 0.35, 0.37, 0.37, 0.36, 0.37, 0.37, 0.36, 0.36, 0.37, 0.37, 0.37, 0.37, 0.37, 0.37, 0.38, 0.37, 0.37, 0.37, 0.37, 0.37, 0.36, 0.36, 0.36, 0.36, 0.36, 0.36, 0.36, 0.36, 0.36, 0.36, 0.36, 0.36, 0.36, 0.36, 0.36, 0.36, 0.36, 0.36, 0.36, 0.36, 0.36, 0.36, 0.35, 0.35, 0.35, 0.35, 0.35, 0.35, 0.35, 0.35, 0.36, 0.35, 0.35, 0.35, 0.35, 0.35, 0.35, 0.35]\n"
     ]
    }
   ],
   "source": [
    "test=[]\n",
    "for i in range(10,1000,10):\n",
    "    interList=scholarTable.sort_values(by='度中心性',ascending=False).head(i).index.intersection(\n",
    "    politicalTable.sort_values(by='度中心性',ascending=False).head(i).index)\n",
    "    test.append(round(len(interList)/i,2))\n",
    "print(test)"
   ]
  },
  {
   "cell_type": "code",
   "execution_count": null,
   "metadata": {},
   "outputs": [],
   "source": []
  }
 ],
 "metadata": {
  "kernelspec": {
   "display_name": "Python 3",
   "language": "python",
   "name": "python3"
  },
  "language_info": {
   "codemirror_mode": {
    "name": "ipython",
    "version": 3
   },
   "file_extension": ".py",
   "mimetype": "text/x-python",
   "name": "python",
   "nbconvert_exporter": "python",
   "pygments_lexer": "ipython3",
   "version": "3.6.7"
  }
 },
 "nbformat": 4,
 "nbformat_minor": 2
}
