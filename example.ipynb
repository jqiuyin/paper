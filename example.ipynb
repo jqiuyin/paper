{
  "cells": [
    {
      "cell_type": "code",
      "execution_count": 1,
      "metadata": {
        "pycharm": {
          "is_executing": false
        }
      },
      "outputs": [],
      "source": "import networkx as nx\nimport matplotlib.pyplot as plt\nimport main.connectToAccess as source\nfrom main.readLabel import getScholarLabel\nfrom main.readLabel import getPoliticalLable\nfrom main.readLabel import getLable\nfrom main.createGraph import CreateGraph\nimport pandas as pd\nfrom main.statistic import Statistic\nimport main.cleanData as cd\nimport main.drawNetwork as dn\nimport importlib"
    },
    {
      "cell_type": "code",
      "execution_count": 3,
      "metadata": {
        "pycharm": {
          "is_executing": false,
          "metadata": false,
          "name": "#%%\n"
        }
      },
      "outputs": [
        {
          "data": {
            "text/plain": "              文人关系          政治关系\n0             學生為Y            不合\n1           書序由Y所作  拒絕在Y主政的政府中任職\n2          為Y學派的成員    拒絕在Y的主政期出仕\n3             弟子為Y          拒絕會面\n4          為Y所著書作跋    欲辟Y為幕僚但被拒絕\n5        推薦Y參加制科考試         拒為Y之黨\n6            文風效法Y          拒Y游説\n7          詩作為Y所稱道         反對/攻訐\n8           稱道Y的詩作            彈劾\n9         學術源宗由Y撰寫    反對/不支持Y的政策\n10           以詩諷忤Y            排擠\n11        為Y作字說、名述           得罪Y\n12       字說、名述由Y所作           忌/惡\n13              論學            批評\n14            詩社成員         反對Y稱帝\n15             相唱和         以詩諷忤Y\n16           同學、同門          與Y爭權\n17            傳Y之學         其黨攻訐Y\n18          傳記作者為Y          反對赦免\n19           讚揚Y之學           陷害Y\n20           為Y作祝詞    其（或追隨者）殺害Y\n21         書、畫由Y作跋            逮捕\n22  為Y作臨別贈言(送別詩、序)            鞫治\n23          稱道Y之文風         建議處決Y\n24            宗Y之學          籌劃謀殺\n25          硯銘由Y所作          下令處決\n26            排Y之學            處決\n27             教授Y       逃離Y的統治區\n28         合撰(編)著作          門客為Y\n29           私淑Y之學          恩主是Y\n30       以文章、學問受知於          黨羽為Y\n31          編輯Y之詩文          黨魁為Y\n32          研讀Y的著作          政見趨同\n33          模仿Y的書風          副Y出使\n34            贈詩、文         以Y為謀士\n35           題Y的書帖         以宦官事Y\n36   為Y之建築物題詠、記、命名         欣賞/器重\n37        編輯Y的學術作品            支持\n38     學記（書院記）由Y所作            喜爱\n39         為Y之詩文作跋        稱道Y之政績\n40           畫風師法Y           護佑Y\n41         畫風為Y所師法           擁立Y\n42         稱道Y的書、畫     因與Y的交往受牽連\n43            代Y作文       其同犯被指為Y\n44          獻文、書于Y           NaN\n45         行狀跋由Y所作           NaN\n46          著作被Y評論           NaN\n47          為Y之書題詞           NaN",
            "text/html": "\u003cdiv\u003e\n\u003cstyle scoped\u003e\n    .dataframe tbody tr th:only-of-type {\n        vertical-align: middle;\n    }\n\n    .dataframe tbody tr th {\n        vertical-align: top;\n    }\n\n    .dataframe thead th {\n        text-align: right;\n    }\n\u003c/style\u003e\n\u003ctable border\u003d\"1\" class\u003d\"dataframe\"\u003e\n  \u003cthead\u003e\n    \u003ctr style\u003d\"text-align: right;\"\u003e\n      \u003cth\u003e\u003c/th\u003e\n      \u003cth\u003e文人关系\u003c/th\u003e\n      \u003cth\u003e政治关系\u003c/th\u003e\n    \u003c/tr\u003e\n  \u003c/thead\u003e\n  \u003ctbody\u003e\n    \u003ctr\u003e\n      \u003cth\u003e0\u003c/th\u003e\n      \u003ctd\u003e學生為Y\u003c/td\u003e\n      \u003ctd\u003e不合\u003c/td\u003e\n    \u003c/tr\u003e\n    \u003ctr\u003e\n      \u003cth\u003e1\u003c/th\u003e\n      \u003ctd\u003e書序由Y所作\u003c/td\u003e\n      \u003ctd\u003e拒絕在Y主政的政府中任職\u003c/td\u003e\n    \u003c/tr\u003e\n    \u003ctr\u003e\n      \u003cth\u003e2\u003c/th\u003e\n      \u003ctd\u003e為Y學派的成員\u003c/td\u003e\n      \u003ctd\u003e拒絕在Y的主政期出仕\u003c/td\u003e\n    \u003c/tr\u003e\n    \u003ctr\u003e\n      \u003cth\u003e3\u003c/th\u003e\n      \u003ctd\u003e弟子為Y\u003c/td\u003e\n      \u003ctd\u003e拒絕會面\u003c/td\u003e\n    \u003c/tr\u003e\n    \u003ctr\u003e\n      \u003cth\u003e4\u003c/th\u003e\n      \u003ctd\u003e為Y所著書作跋\u003c/td\u003e\n      \u003ctd\u003e欲辟Y為幕僚但被拒絕\u003c/td\u003e\n    \u003c/tr\u003e\n    \u003ctr\u003e\n      \u003cth\u003e5\u003c/th\u003e\n      \u003ctd\u003e推薦Y參加制科考試\u003c/td\u003e\n      \u003ctd\u003e拒為Y之黨\u003c/td\u003e\n    \u003c/tr\u003e\n    \u003ctr\u003e\n      \u003cth\u003e6\u003c/th\u003e\n      \u003ctd\u003e文風效法Y\u003c/td\u003e\n      \u003ctd\u003e拒Y游説\u003c/td\u003e\n    \u003c/tr\u003e\n    \u003ctr\u003e\n      \u003cth\u003e7\u003c/th\u003e\n      \u003ctd\u003e詩作為Y所稱道\u003c/td\u003e\n      \u003ctd\u003e反對/攻訐\u003c/td\u003e\n    \u003c/tr\u003e\n    \u003ctr\u003e\n      \u003cth\u003e8\u003c/th\u003e\n      \u003ctd\u003e稱道Y的詩作\u003c/td\u003e\n      \u003ctd\u003e彈劾\u003c/td\u003e\n    \u003c/tr\u003e\n    \u003ctr\u003e\n      \u003cth\u003e9\u003c/th\u003e\n      \u003ctd\u003e學術源宗由Y撰寫\u003c/td\u003e\n      \u003ctd\u003e反對/不支持Y的政策\u003c/td\u003e\n    \u003c/tr\u003e\n    \u003ctr\u003e\n      \u003cth\u003e10\u003c/th\u003e\n      \u003ctd\u003e以詩諷忤Y\u003c/td\u003e\n      \u003ctd\u003e排擠\u003c/td\u003e\n    \u003c/tr\u003e\n    \u003ctr\u003e\n      \u003cth\u003e11\u003c/th\u003e\n      \u003ctd\u003e為Y作字說、名述\u003c/td\u003e\n      \u003ctd\u003e得罪Y\u003c/td\u003e\n    \u003c/tr\u003e\n    \u003ctr\u003e\n      \u003cth\u003e12\u003c/th\u003e\n      \u003ctd\u003e字說、名述由Y所作\u003c/td\u003e\n      \u003ctd\u003e忌/惡\u003c/td\u003e\n    \u003c/tr\u003e\n    \u003ctr\u003e\n      \u003cth\u003e13\u003c/th\u003e\n      \u003ctd\u003e論學\u003c/td\u003e\n      \u003ctd\u003e批評\u003c/td\u003e\n    \u003c/tr\u003e\n    \u003ctr\u003e\n      \u003cth\u003e14\u003c/th\u003e\n      \u003ctd\u003e詩社成員\u003c/td\u003e\n      \u003ctd\u003e反對Y稱帝\u003c/td\u003e\n    \u003c/tr\u003e\n    \u003ctr\u003e\n      \u003cth\u003e15\u003c/th\u003e\n      \u003ctd\u003e相唱和\u003c/td\u003e\n      \u003ctd\u003e以詩諷忤Y\u003c/td\u003e\n    \u003c/tr\u003e\n    \u003ctr\u003e\n      \u003cth\u003e16\u003c/th\u003e\n      \u003ctd\u003e同學、同門\u003c/td\u003e\n      \u003ctd\u003e與Y爭權\u003c/td\u003e\n    \u003c/tr\u003e\n    \u003ctr\u003e\n      \u003cth\u003e17\u003c/th\u003e\n      \u003ctd\u003e傳Y之學\u003c/td\u003e\n      \u003ctd\u003e其黨攻訐Y\u003c/td\u003e\n    \u003c/tr\u003e\n    \u003ctr\u003e\n      \u003cth\u003e18\u003c/th\u003e\n      \u003ctd\u003e傳記作者為Y\u003c/td\u003e\n      \u003ctd\u003e反對赦免\u003c/td\u003e\n    \u003c/tr\u003e\n    \u003ctr\u003e\n      \u003cth\u003e19\u003c/th\u003e\n      \u003ctd\u003e讚揚Y之學\u003c/td\u003e\n      \u003ctd\u003e陷害Y\u003c/td\u003e\n    \u003c/tr\u003e\n    \u003ctr\u003e\n      \u003cth\u003e20\u003c/th\u003e\n      \u003ctd\u003e為Y作祝詞\u003c/td\u003e\n      \u003ctd\u003e其（或追隨者）殺害Y\u003c/td\u003e\n    \u003c/tr\u003e\n    \u003ctr\u003e\n      \u003cth\u003e21\u003c/th\u003e\n      \u003ctd\u003e書、畫由Y作跋\u003c/td\u003e\n      \u003ctd\u003e逮捕\u003c/td\u003e\n    \u003c/tr\u003e\n    \u003ctr\u003e\n      \u003cth\u003e22\u003c/th\u003e\n      \u003ctd\u003e為Y作臨別贈言(送別詩、序)\u003c/td\u003e\n      \u003ctd\u003e鞫治\u003c/td\u003e\n    \u003c/tr\u003e\n    \u003ctr\u003e\n      \u003cth\u003e23\u003c/th\u003e\n      \u003ctd\u003e稱道Y之文風\u003c/td\u003e\n      \u003ctd\u003e建議處決Y\u003c/td\u003e\n    \u003c/tr\u003e\n    \u003ctr\u003e\n      \u003cth\u003e24\u003c/th\u003e\n      \u003ctd\u003e宗Y之學\u003c/td\u003e\n      \u003ctd\u003e籌劃謀殺\u003c/td\u003e\n    \u003c/tr\u003e\n    \u003ctr\u003e\n      \u003cth\u003e25\u003c/th\u003e\n      \u003ctd\u003e硯銘由Y所作\u003c/td\u003e\n      \u003ctd\u003e下令處決\u003c/td\u003e\n    \u003c/tr\u003e\n    \u003ctr\u003e\n      \u003cth\u003e26\u003c/th\u003e\n      \u003ctd\u003e排Y之學\u003c/td\u003e\n      \u003ctd\u003e處決\u003c/td\u003e\n    \u003c/tr\u003e\n    \u003ctr\u003e\n      \u003cth\u003e27\u003c/th\u003e\n      \u003ctd\u003e教授Y\u003c/td\u003e\n      \u003ctd\u003e逃離Y的統治區\u003c/td\u003e\n    \u003c/tr\u003e\n    \u003ctr\u003e\n      \u003cth\u003e28\u003c/th\u003e\n      \u003ctd\u003e合撰(編)著作\u003c/td\u003e\n      \u003ctd\u003e門客為Y\u003c/td\u003e\n    \u003c/tr\u003e\n    \u003ctr\u003e\n      \u003cth\u003e29\u003c/th\u003e\n      \u003ctd\u003e私淑Y之學\u003c/td\u003e\n      \u003ctd\u003e恩主是Y\u003c/td\u003e\n    \u003c/tr\u003e\n    \u003ctr\u003e\n      \u003cth\u003e30\u003c/th\u003e\n      \u003ctd\u003e以文章、學問受知於\u003c/td\u003e\n      \u003ctd\u003e黨羽為Y\u003c/td\u003e\n    \u003c/tr\u003e\n    \u003ctr\u003e\n      \u003cth\u003e31\u003c/th\u003e\n      \u003ctd\u003e編輯Y之詩文\u003c/td\u003e\n      \u003ctd\u003e黨魁為Y\u003c/td\u003e\n    \u003c/tr\u003e\n    \u003ctr\u003e\n      \u003cth\u003e32\u003c/th\u003e\n      \u003ctd\u003e研讀Y的著作\u003c/td\u003e\n      \u003ctd\u003e政見趨同\u003c/td\u003e\n    \u003c/tr\u003e\n    \u003ctr\u003e\n      \u003cth\u003e33\u003c/th\u003e\n      \u003ctd\u003e模仿Y的書風\u003c/td\u003e\n      \u003ctd\u003e副Y出使\u003c/td\u003e\n    \u003c/tr\u003e\n    \u003ctr\u003e\n      \u003cth\u003e34\u003c/th\u003e\n      \u003ctd\u003e贈詩、文\u003c/td\u003e\n      \u003ctd\u003e以Y為謀士\u003c/td\u003e\n    \u003c/tr\u003e\n    \u003ctr\u003e\n      \u003cth\u003e35\u003c/th\u003e\n      \u003ctd\u003e題Y的書帖\u003c/td\u003e\n      \u003ctd\u003e以宦官事Y\u003c/td\u003e\n    \u003c/tr\u003e\n    \u003ctr\u003e\n      \u003cth\u003e36\u003c/th\u003e\n      \u003ctd\u003e為Y之建築物題詠、記、命名\u003c/td\u003e\n      \u003ctd\u003e欣賞/器重\u003c/td\u003e\n    \u003c/tr\u003e\n    \u003ctr\u003e\n      \u003cth\u003e37\u003c/th\u003e\n      \u003ctd\u003e編輯Y的學術作品\u003c/td\u003e\n      \u003ctd\u003e支持\u003c/td\u003e\n    \u003c/tr\u003e\n    \u003ctr\u003e\n      \u003cth\u003e38\u003c/th\u003e\n      \u003ctd\u003e學記（書院記）由Y所作\u003c/td\u003e\n      \u003ctd\u003e喜爱\u003c/td\u003e\n    \u003c/tr\u003e\n    \u003ctr\u003e\n      \u003cth\u003e39\u003c/th\u003e\n      \u003ctd\u003e為Y之詩文作跋\u003c/td\u003e\n      \u003ctd\u003e稱道Y之政績\u003c/td\u003e\n    \u003c/tr\u003e\n    \u003ctr\u003e\n      \u003cth\u003e40\u003c/th\u003e\n      \u003ctd\u003e畫風師法Y\u003c/td\u003e\n      \u003ctd\u003e護佑Y\u003c/td\u003e\n    \u003c/tr\u003e\n    \u003ctr\u003e\n      \u003cth\u003e41\u003c/th\u003e\n      \u003ctd\u003e畫風為Y所師法\u003c/td\u003e\n      \u003ctd\u003e擁立Y\u003c/td\u003e\n    \u003c/tr\u003e\n    \u003ctr\u003e\n      \u003cth\u003e42\u003c/th\u003e\n      \u003ctd\u003e稱道Y的書、畫\u003c/td\u003e\n      \u003ctd\u003e因與Y的交往受牽連\u003c/td\u003e\n    \u003c/tr\u003e\n    \u003ctr\u003e\n      \u003cth\u003e43\u003c/th\u003e\n      \u003ctd\u003e代Y作文\u003c/td\u003e\n      \u003ctd\u003e其同犯被指為Y\u003c/td\u003e\n    \u003c/tr\u003e\n    \u003ctr\u003e\n      \u003cth\u003e44\u003c/th\u003e\n      \u003ctd\u003e獻文、書于Y\u003c/td\u003e\n      \u003ctd\u003eNaN\u003c/td\u003e\n    \u003c/tr\u003e\n    \u003ctr\u003e\n      \u003cth\u003e45\u003c/th\u003e\n      \u003ctd\u003e行狀跋由Y所作\u003c/td\u003e\n      \u003ctd\u003eNaN\u003c/td\u003e\n    \u003c/tr\u003e\n    \u003ctr\u003e\n      \u003cth\u003e46\u003c/th\u003e\n      \u003ctd\u003e著作被Y評論\u003c/td\u003e\n      \u003ctd\u003eNaN\u003c/td\u003e\n    \u003c/tr\u003e\n    \u003ctr\u003e\n      \u003cth\u003e47\u003c/th\u003e\n      \u003ctd\u003e為Y之書題詞\u003c/td\u003e\n      \u003ctd\u003eNaN\u003c/td\u003e\n    \u003c/tr\u003e\n  \u003c/tbody\u003e\n\u003c/table\u003e\n\u003c/div\u003e"
          },
          "metadata": {},
          "output_type": "execute_result",
          "execution_count": 3
        }
      ],
      "source": [
        "\u0027\u0027\u0027\n",
        "打印用于筛选文人关系与政治关系的标签\n",
        "\u0027\u0027\u0027\n",
        "first\u003dpd.Series(getScholarLabel())\n",
        "second\u003dpd.Series(getPoliticalLable())\n",
        "lab1\u003dpd.DataFrame()\n",
        "lab1[\u0027文人关系\u0027]\u003dfirst\n",
        "lab1[\u0027政治关系\u0027]\u003dsecond\n",
        "lab1"
      ]
    },
    {
      "cell_type": "code",
      "execution_count": 30,
      "metadata": {
        "pycharm": {}
      },
      "outputs": [
        {
          "data": {
            "text/html": [
              "\u003cdiv\u003e\n",
              "\u003cstyle scoped\u003e\n",
              "    .dataframe tbody tr th:only-of-type {\n",
              "        vertical-align: middle;\n",
              "    }\n",
              "\n",
              "    .dataframe tbody tr th {\n",
              "        vertical-align: top;\n",
              "    }\n",
              "\n",
              "    .dataframe thead th {\n",
              "        text-align: right;\n",
              "    }\n",
              "\u003c/style\u003e\n",
              "\u003ctable border\u003d\"1\" class\u003d\"dataframe\"\u003e\n",
              "  \u003cthead\u003e\n",
              "    \u003ctr style\u003d\"text-align: right;\"\u003e\n",
              "      \u003cth\u003e\u003c/th\u003e\n",
              "      \u003cth\u003e\u003c/th\u003e\n",
              "      \u003cth\u003e人物数量\u003c/th\u003e\n",
              "      \u003cth\u003e关系数量\u003c/th\u003e\n",
              "    \u003c/tr\u003e\n",
              "  \u003c/thead\u003e\n",
              "  \u003ctbody\u003e\n",
              "    \u003ctr\u003e\n",
              "      \u003cth rowspan\u003d\"2\" valign\u003d\"top\"\u003e唐\u003c/th\u003e\n",
              "      \u003cth\u003e人文网络\u003c/th\u003e\n",
              "      \u003ctd\u003e13\u003c/td\u003e\n",
              "      \u003ctd\u003e7\u003c/td\u003e\n",
              "    \u003c/tr\u003e\n",
              "    \u003ctr\u003e\n",
              "      \u003cth\u003e政治网络\u003c/th\u003e\n",
              "      \u003ctd\u003e30\u003c/td\u003e\n",
              "      \u003ctd\u003e7\u003c/td\u003e\n",
              "    \u003c/tr\u003e\n",
              "    \u003ctr\u003e\n",
              "      \u003cth rowspan\u003d\"2\" valign\u003d\"top\"\u003e宋\u003c/th\u003e\n",
              "      \u003cth\u003e人文网络\u003c/th\u003e\n",
              "      \u003ctd\u003e2535\u003c/td\u003e\n",
              "      \u003ctd\u003e2714\u003c/td\u003e\n",
              "    \u003c/tr\u003e\n",
              "    \u003ctr\u003e\n",
              "      \u003cth\u003e政治网络\u003c/th\u003e\n",
              "      \u003ctd\u003e2034\u003c/td\u003e\n",
              "      \u003ctd\u003e2714\u003c/td\u003e\n",
              "    \u003c/tr\u003e\n",
              "    \u003ctr\u003e\n",
              "      \u003cth rowspan\u003d\"2\" valign\u003d\"top\"\u003e元\u003c/th\u003e\n",
              "      \u003cth\u003e人文网络\u003c/th\u003e\n",
              "      \u003ctd\u003e1348\u003c/td\u003e\n",
              "      \u003ctd\u003e1455\u003c/td\u003e\n",
              "    \u003c/tr\u003e\n",
              "    \u003ctr\u003e\n",
              "      \u003cth\u003e政治网络\u003c/th\u003e\n",
              "      \u003ctd\u003e531\u003c/td\u003e\n",
              "      \u003ctd\u003e1455\u003c/td\u003e\n",
              "    \u003c/tr\u003e\n",
              "    \u003ctr\u003e\n",
              "      \u003cth rowspan\u003d\"2\" valign\u003d\"top\"\u003e明\u003c/th\u003e\n",
              "      \u003cth\u003e人文网络\u003c/th\u003e\n",
              "      \u003ctd\u003e1128\u003c/td\u003e\n",
              "      \u003ctd\u003e1220\u003c/td\u003e\n",
              "    \u003c/tr\u003e\n",
              "    \u003ctr\u003e\n",
              "      \u003cth\u003e政治网络\u003c/th\u003e\n",
              "      \u003ctd\u003e313\u003c/td\u003e\n",
              "      \u003ctd\u003e1220\u003c/td\u003e\n",
              "    \u003c/tr\u003e\n",
              "    \u003ctr\u003e\n",
              "      \u003cth rowspan\u003d\"2\" valign\u003d\"top\"\u003e清\u003c/th\u003e\n",
              "      \u003cth\u003e人文网络\u003c/th\u003e\n",
              "      \u003ctd\u003e1157\u003c/td\u003e\n",
              "      \u003ctd\u003e962\u003c/td\u003e\n",
              "    \u003c/tr\u003e\n",
              "    \u003ctr\u003e\n",
              "      \u003cth\u003e政治网络\u003c/th\u003e\n",
              "      \u003ctd\u003e46\u003c/td\u003e\n",
              "      \u003ctd\u003e962\u003c/td\u003e\n",
              "    \u003c/tr\u003e\n",
              "  \u003c/tbody\u003e\n",
              "\u003c/table\u003e\n",
              "\u003c/div\u003e"
            ],
            "text/plain": [
              "        人物数量  关系数量\n",
              "唐 人文网络    13     7\n",
              "  政治网络    30     7\n",
              "宋 人文网络  2535  2714\n",
              "  政治网络  2034  2714\n",
              "元 人文网络  1348  1455\n",
              "  政治网络   531  1455\n",
              "明 人文网络  1128  1220\n",
              "  政治网络   313  1220\n",
              "清 人文网络  1157   962\n",
              "  政治网络    46   962"
            ]
          },
          "execution_count": 30,
          "metadata": {},
          "output_type": "execute_result"
        }
      ],
      "source": [
        "dynasties\u003d{\n",
        "    \u0027唐\u0027:[618,907],\n",
        "    \u0027宋\u0027:[960,1279],\n",
        "    \u0027元\u0027:[1279,1367],\n",
        "    \u0027明\u0027:[1368,1644],\n",
        "    \u0027清\u0027:[1644,1911]\n",
        "}\n",
        "\n",
        "def getNodeAndEdge(dynastieDic):\n",
        "    total\u003dpd.DataFrame(index\u003dpd.MultiIndex.from_product([[\u0027唐\u0027,\u0027宋\u0027,\u0027元\u0027,\u0027明\u0027,\u0027清\u0027],[\u0027人文网络\u0027,\u0027政治网络\u0027]]),columns\u003d[\u0027人物数量\u0027,\u0027关系数量\u0027])\n",
        "    for key,value in dynastieDic.items():\n",
        "        table\u003dsource.getData(start\u003dvalue[0],end\u003dvalue[1])\n",
        "        scholarLabel\u003dgetScholarLabel()\n",
        "        data\u003dtable[table[3].isin(scholarLabel)]\n",
        "        scholarNetwork\u003dCreateGraph(data)\n",
        "        scholarG\u003dscholarNetwork.getGraph()\n",
        "\n",
        "        politicalLabel\u003dgetPoliticalLable()\n",
        "        data\u003dtable[table[3].isin(politicalLabel)]\n",
        "        politicalNetwork\u003dCreateGraph(data)\n",
        "        politicalG\u003dpoliticalNetwork.getGraph()\n",
        "        total.loc[(key,\u0027人文网络\u0027),:]\u003d[nx.number_of_nodes(scholarG),nx.number_of_edges(scholarG)]\n",
        "        total.loc[(key,\u0027政治网络\u0027),:]\u003d[nx.number_of_nodes(politicalG),nx.number_of_edges(scholarG)]\n",
        "    return total\n",
        "getNodeAndEdge(dynasties)\n"
      ]
    },
    {
      "cell_type": "code",
      "execution_count": 40,
      "metadata": {
        "pycharm": {}
      },
      "outputs": [
        {
          "data": {
            "image/png": "[encoded data removed]",
            "text/plain": [
              "\u003cFigure size 432x288 with 1 Axes\u003e"
            ]
          },
          "metadata": {
            "needs_background": "light"
          },
          "output_type": "display_data"
        }
      ],
      "source": [
        "\n",
        "importlib.reload(dn)\n",
        "table\u003dsource.getData(start\u003d1234,end\u003d1367)\n",
        "scholarLabel\u003dgetScholarLabel()\n",
        "cleanData\u003dcd.CleanData(label\u003dscholarLabel,table\u003dtable)\n",
        "data\u003dcleanData.get_table()\n",
        "scholarNetwork\u003dCreateGraph(data)\n",
        "G\u003dscholarNetwork.getGraph()\n",
        "drawNetwork\u003ddn.DrawNetwork(G)\n",
        "drawNetwork.draw()"
      ]
    },
    {
      "cell_type": "code",
      "execution_count": 5,
      "metadata": {
        "pycharm": {}
      },
      "outputs": [],
      "source": [
        "scholarStat\u003dStatistic(G)"
      ]
    },
    {
      "cell_type": "code",
      "execution_count": 6,
      "metadata": {
        "pycharm": {}
      },
      "outputs": [],
      "source": [
        "degree\u003dscholarStat.getDegreeCentrality()\n",
        "between\u003dscholarStat.getBetweennessCentrality()\n",
        "close\u003dscholarStat.getClosenessCentrality()"
      ]
    },
    {
      "cell_type": "code",
      "execution_count": 7,
      "metadata": {
        "pycharm": {}
      },
      "outputs": [],
      "source": [
        "scholarTable\u003dpd.DataFrame([degree,between,close]).T\n",
        "scholarTable\u003dscholarTable.sort_values(by\u003d[\u0027度中心性\u0027,\u0027中介中心性\u0027,\u0027接近中心性\u0027],ascending\u003dFalse)"
      ]
    },
    {
      "cell_type": "code",
      "execution_count": 8,
      "metadata": {
        "pycharm": {}
      },
      "outputs": [],
      "source": [
        "\n",
        "table\u003dsource.getData(start\u003d1234,end\u003d1367)\n",
        "politicalLabel\u003dgetPoliticalLable()\n",
        "data\u003dtable[table[3].isin(politicalLabel)]\n",
        "politicalNetwork\u003dCreateGraph(data)\n",
        "G\u003dpoliticalNetwork.getGraph()"
      ]
    },
    {
      "cell_type": "code",
      "execution_count": 63,
      "metadata": {
        "pycharm": {}
      },
      "outputs": [],
      "source": [
        "politicalStat\u003dStatistic(G)\n",
        "degree\u003dpoliticalStat.getDegreeCentrality()\n",
        "between\u003dpoliticalStat.getBetweennessCentrality()\n",
        "close\u003dpoliticalStat.getClosenessCentrality()\n",
        "politicalTable\u003dpd.DataFrame([degree,between,close]).T\n",
        "politicalTable\u003dpoliticalTable.sort_values(by\u003d[\u0027度中心性\u0027,\u0027中介中心性\u0027,\u0027接近中心性\u0027],ascending\u003dFalse)"
      ]
    },
    {
      "cell_type": "code",
      "execution_count": 6,
      "metadata": {
        "pycharm": {}
      },
      "outputs": [],
      "source": [
        "def getTable(start,end,label):\n",
        "    table\u003dsource.getData(start\u003dstart,end\u003dend)\n",
        "    cleanData\u003dcd.CleanData(label\u003dlabel,table\u003dtable)\n",
        "    data\u003dcleanData.get_table()\n",
        "    G\u003dCreateGraph(data).getGraph()\n",
        "    stat\u003dStatistic(G)\n",
        "    degree\u003dstat.getDegreeCentrality()\n",
        "    between\u003dstat.getBetweennessCentrality()\n",
        "    close\u003dstat.getClosenessCentrality()\n",
        "    Table\u003dpd.DataFrame([degree,between,close]).T\n",
        "    Table\u003dTable.sort_values(by\u003d[\u0027度中心性\u0027,\u0027中介中心性\u0027,\u0027接近中心性\u0027],ascending\u003dFalse)\n",
        "    return Table"
      ]
    },
    {
      "cell_type": "code",
      "execution_count": 31,
      "metadata": {
        "pycharm": {},
        "scrolled": true
      },
      "outputs": [
        {
          "data": {
            "text/plain": [
              "[2, 2, 0]"
            ]
          },
          "execution_count": 31,
          "metadata": {},
          "output_type": "execute_result"
        }
      ],
      "source": [
        "politicalTable\u003dgetTable(1644,1911,getPoliticalLable())\n",
        "scholarTable\u003dgetTable(1644,1911,getScholarLabel())\n",
        "degreeList\u003dscholarTable.sort_values(by\u003d\u0027度中心性\u0027,ascending\u003dFalse).head(100).index.intersection(\n",
        "    politicalTable.sort_values(by\u003d\u0027度中心性\u0027,ascending\u003dFalse).head(100).index)\n",
        "betweenList\u003dscholarTable.sort_values(by\u003d\u0027中介中心性\u0027,ascending\u003dFalse).head(100).index.intersection(\n",
        "    politicalTable.sort_values(by\u003d\u0027中介中心性\u0027,ascending\u003dFalse).head(100).index)\n",
        "closeList\u003dscholarTable.sort_values(by\u003d\u0027接近中心性\u0027,ascending\u003dFalse).head(100).index.intersection(\n",
        "    politicalTable.sort_values(by\u003d\u0027接近中心性\u0027,ascending\u003dFalse).head(100).index)\n",
        "list\u003d[len(degreeList),len(betweenList),len(closeList)]\n",
        "list"
      ]
    },
    {
      "cell_type": "code",
      "execution_count": 32,
      "metadata": {
        "pycharm": {}
      },
      "outputs": [
        {
          "data": {
            "text/html": [
              "\u003cdiv\u003e\n",
              "\u003cstyle scoped\u003e\n",
              "    .dataframe tbody tr th:only-of-type {\n",
              "        vertical-align: middle;\n",
              "    }\n",
              "\n",
              "    .dataframe tbody tr th {\n",
              "        vertical-align: top;\n",
              "    }\n",
              "\n",
              "    .dataframe thead th {\n",
              "        text-align: right;\n",
              "    }\n",
              "\u003c/style\u003e\n",
              "\u003ctable border\u003d\"1\" class\u003d\"dataframe\"\u003e\n",
              "  \u003cthead\u003e\n",
              "    \u003ctr style\u003d\"text-align: right;\"\u003e\n",
              "      \u003cth\u003e\u003c/th\u003e\n",
              "      \u003cth\u003e度中心性\u003c/th\u003e\n",
              "      \u003cth\u003e中介中心性\u003c/th\u003e\n",
              "      \u003cth\u003e接近中心性\u003c/th\u003e\n",
              "    \u003c/tr\u003e\n",
              "  \u003c/thead\u003e\n",
              "  \u003ctbody\u003e\n",
              "    \u003ctr\u003e\n",
              "      \u003cth\u003e錢大昕\u003c/th\u003e\n",
              "      \u003ctd\u003e0.133333\u003c/td\u003e\n",
              "      \u003ctd\u003e0.015152\u003c/td\u003e\n",
              "      \u003ctd\u003e0.133333\u003c/td\u003e\n",
              "    \u003c/tr\u003e\n",
              "    \u003ctr\u003e\n",
              "      \u003cth\u003e紀昀\u003c/th\u003e\n",
              "      \u003ctd\u003e0.111111\u003c/td\u003e\n",
              "      \u003ctd\u003e0.019192\u003c/td\u003e\n",
              "      \u003ctd\u003e0.120988\u003c/td\u003e\n",
              "    \u003c/tr\u003e\n",
              "    \u003ctr\u003e\n",
              "      \u003cth\u003e高鳳翰\u003c/th\u003e\n",
              "      \u003ctd\u003e0.066667\u003c/td\u003e\n",
              "      \u003ctd\u003e0.003030\u003c/td\u003e\n",
              "      \u003ctd\u003e0.066667\u003c/td\u003e\n",
              "    \u003c/tr\u003e\n",
              "    \u003ctr\u003e\n",
              "      \u003cth\u003e汪德鉞\u003c/th\u003e\n",
              "      \u003ctd\u003e0.044444\u003c/td\u003e\n",
              "      \u003ctd\u003e0.006061\u003c/td\u003e\n",
              "      \u003ctd\u003e0.083761\u003c/td\u003e\n",
              "    \u003c/tr\u003e\n",
              "    \u003ctr\u003e\n",
              "      \u003cth\u003e張騰蛟\u003c/th\u003e\n",
              "      \u003ctd\u003e0.044444\u003c/td\u003e\n",
              "      \u003ctd\u003e0.006061\u003c/td\u003e\n",
              "      \u003ctd\u003e0.083761\u003c/td\u003e\n",
              "    \u003c/tr\u003e\n",
              "    \u003ctr\u003e\n",
              "      \u003cth\u003e李光地\u003c/th\u003e\n",
              "      \u003ctd\u003e0.044444\u003c/td\u003e\n",
              "      \u003ctd\u003e0.001010\u003c/td\u003e\n",
              "      \u003ctd\u003e0.044444\u003c/td\u003e\n",
              "    \u003c/tr\u003e\n",
              "    \u003ctr\u003e\n",
              "      \u003cth\u003e高佳高斌\u003c/th\u003e\n",
              "      \u003ctd\u003e0.022222\u003c/td\u003e\n",
              "      \u003ctd\u003e0.000000\u003c/td\u003e\n",
              "      \u003ctd\u003e0.072727\u003c/td\u003e\n",
              "    \u003c/tr\u003e\n",
              "    \u003ctr\u003e\n",
              "      \u003cth\u003e高佳高晉\u003c/th\u003e\n",
              "      \u003ctd\u003e0.022222\u003c/td\u003e\n",
              "      \u003ctd\u003e0.000000\u003c/td\u003e\n",
              "      \u003ctd\u003e0.072727\u003c/td\u003e\n",
              "    \u003c/tr\u003e\n",
              "    \u003ctr\u003e\n",
              "      \u003cth\u003e秦蕙田\u003c/th\u003e\n",
              "      \u003ctd\u003e0.022222\u003c/td\u003e\n",
              "      \u003ctd\u003e0.000000\u003c/td\u003e\n",
              "      \u003ctd\u003e0.072727\u003c/td\u003e\n",
              "    \u003c/tr\u003e\n",
              "    \u003ctr\u003e\n",
              "      \u003cth\u003e董邦達\u003c/th\u003e\n",
              "      \u003ctd\u003e0.022222\u003c/td\u003e\n",
              "      \u003ctd\u003e0.000000\u003c/td\u003e\n",
              "      \u003ctd\u003e0.072727\u003c/td\u003e\n",
              "    \u003c/tr\u003e\n",
              "  \u003c/tbody\u003e\n",
              "\u003c/table\u003e\n",
              "\u003c/div\u003e"
            ],
            "text/plain": [
              "          度中心性     中介中心性     接近中心性\n",
              "錢大昕   0.133333  0.015152  0.133333\n",
              "紀昀    0.111111  0.019192  0.120988\n",
              "高鳳翰   0.066667  0.003030  0.066667\n",
              "汪德鉞   0.044444  0.006061  0.083761\n",
              "張騰蛟   0.044444  0.006061  0.083761\n",
              "李光地   0.044444  0.001010  0.044444\n",
              "高佳高斌  0.022222  0.000000  0.072727\n",
              "高佳高晉  0.022222  0.000000  0.072727\n",
              "秦蕙田   0.022222  0.000000  0.072727\n",
              "董邦達   0.022222  0.000000  0.072727"
            ]
          },
          "execution_count": 32,
          "metadata": {},
          "output_type": "execute_result"
        }
      ],
      "source": [
        "politicalTable.head(10)"
      ]
    },
    {
      "cell_type": "code",
      "execution_count": 33,
      "metadata": {
        "pycharm": {}
      },
      "outputs": [
        {
          "data": {
            "text/html": [
              "\u003cdiv\u003e\n",
              "\u003cstyle scoped\u003e\n",
              "    .dataframe tbody tr th:only-of-type {\n",
              "        vertical-align: middle;\n",
              "    }\n",
              "\n",
              "    .dataframe tbody tr th {\n",
              "        vertical-align: top;\n",
              "    }\n",
              "\n",
              "    .dataframe thead th {\n",
              "        text-align: right;\n",
              "    }\n",
              "\u003c/style\u003e\n",
              "\u003ctable border\u003d\"1\" class\u003d\"dataframe\"\u003e\n",
              "  \u003cthead\u003e\n",
              "    \u003ctr style\u003d\"text-align: right;\"\u003e\n",
              "      \u003cth\u003e\u003c/th\u003e\n",
              "      \u003cth\u003e度中心性\u003c/th\u003e\n",
              "      \u003cth\u003e中介中心性\u003c/th\u003e\n",
              "      \u003cth\u003e接近中心性\u003c/th\u003e\n",
              "    \u003c/tr\u003e\n",
              "  \u003c/thead\u003e\n",
              "  \u003ctbody\u003e\n",
              "    \u003ctr\u003e\n",
              "      \u003cth\u003e鄭蘭孫\u003c/th\u003e\n",
              "      \u003ctd\u003e0.012976\u003c/td\u003e\n",
              "      \u003ctd\u003e0.009997\u003c/td\u003e\n",
              "      \u003ctd\u003e0.031074\u003c/td\u003e\n",
              "    \u003c/tr\u003e\n",
              "    \u003ctr\u003e\n",
              "      \u003cth\u003e左錫嘉\u003c/th\u003e\n",
              "      \u003ctd\u003e0.012976\u003c/td\u003e\n",
              "      \u003ctd\u003e0.009390\u003c/td\u003e\n",
              "      \u003ctd\u003e0.042110\u003c/td\u003e\n",
              "    \u003c/tr\u003e\n",
              "    \u003ctr\u003e\n",
              "      \u003cth\u003e王瓊\u003c/th\u003e\n",
              "      \u003ctd\u003e0.012111\u003c/td\u003e\n",
              "      \u003ctd\u003e0.031032\u003c/td\u003e\n",
              "      \u003ctd\u003e0.047186\u003c/td\u003e\n",
              "    \u003c/tr\u003e\n",
              "    \u003ctr\u003e\n",
              "      \u003cth\u003e汪端\u003c/th\u003e\n",
              "      \u003ctd\u003e0.012111\u003c/td\u003e\n",
              "      \u003ctd\u003e0.018811\u003c/td\u003e\n",
              "      \u003ctd\u003e0.038252\u003c/td\u003e\n",
              "    \u003c/tr\u003e\n",
              "    \u003ctr\u003e\n",
              "      \u003cth\u003e紀昀\u003c/th\u003e\n",
              "      \u003ctd\u003e0.012111\u003c/td\u003e\n",
              "      \u003ctd\u003e0.017956\u003c/td\u003e\n",
              "      \u003ctd\u003e0.030952\u003c/td\u003e\n",
              "    \u003c/tr\u003e\n",
              "    \u003ctr\u003e\n",
              "      \u003cth\u003e張允滋\u003c/th\u003e\n",
              "      \u003ctd\u003e0.010381\u003c/td\u003e\n",
              "      \u003ctd\u003e0.025301\u003c/td\u003e\n",
              "      \u003ctd\u003e0.043729\u003c/td\u003e\n",
              "    \u003c/tr\u003e\n",
              "    \u003ctr\u003e\n",
              "      \u003cth\u003e任兆麟\u003c/th\u003e\n",
              "      \u003ctd\u003e0.010381\u003c/td\u003e\n",
              "      \u003ctd\u003e0.002001\u003c/td\u003e\n",
              "      \u003ctd\u003e0.043271\u003c/td\u003e\n",
              "    \u003c/tr\u003e\n",
              "    \u003ctr\u003e\n",
              "      \u003cth\u003e張綸英\u003c/th\u003e\n",
              "      \u003ctd\u003e0.009516\u003c/td\u003e\n",
              "      \u003ctd\u003e0.033591\u003c/td\u003e\n",
              "      \u003ctd\u003e0.033877\u003c/td\u003e\n",
              "    \u003c/tr\u003e\n",
              "    \u003ctr\u003e\n",
              "      \u003cth\u003e潘素心\u003c/th\u003e\n",
              "      \u003ctd\u003e0.009516\u003c/td\u003e\n",
              "      \u003ctd\u003e0.031989\u003c/td\u003e\n",
              "      \u003ctd\u003e0.046010\u003c/td\u003e\n",
              "    \u003c/tr\u003e\n",
              "    \u003ctr\u003e\n",
              "      \u003cth\u003e顧翎\u003c/th\u003e\n",
              "      \u003ctd\u003e0.009516\u003c/td\u003e\n",
              "      \u003ctd\u003e0.007535\u003c/td\u003e\n",
              "      \u003ctd\u003e0.048378\u003c/td\u003e\n",
              "    \u003c/tr\u003e\n",
              "  \u003c/tbody\u003e\n",
              "\u003c/table\u003e\n",
              "\u003c/div\u003e"
            ],
            "text/plain": [
              "         度中心性     中介中心性     接近中心性\n",
              "鄭蘭孫  0.012976  0.009997  0.031074\n",
              "左錫嘉  0.012976  0.009390  0.042110\n",
              "王瓊   0.012111  0.031032  0.047186\n",
              "汪端   0.012111  0.018811  0.038252\n",
              "紀昀   0.012111  0.017956  0.030952\n",
              "張允滋  0.010381  0.025301  0.043729\n",
              "任兆麟  0.010381  0.002001  0.043271\n",
              "張綸英  0.009516  0.033591  0.033877\n",
              "潘素心  0.009516  0.031989  0.046010\n",
              "顧翎   0.009516  0.007535  0.048378"
            ]
          },
          "execution_count": 33,
          "metadata": {},
          "output_type": "execute_result"
        }
      ],
      "source": [
        "scholarTable.head(10)"
      ]
    },
    {
      "cell_type": "code",
      "execution_count": 66,
      "metadata": {
        "pycharm": {}
      },
      "outputs": [
        {
          "data": {
            "text/plain": [
              "27"
            ]
          },
          "execution_count": 66,
          "metadata": {},
          "output_type": "execute_result"
        }
      ],
      "source": [
        "interList\u003dscholarTable.sort_values(by\u003d\u0027度中心性\u0027,ascending\u003dFalse).head(100).index.intersection(\n",
        "    politicalTable.sort_values(by\u003d\u0027度中心性\u0027,ascending\u003dFalse).head(100).index)\n",
        "len(interList)"
      ]
    },
    {
      "cell_type": "code",
      "execution_count": 67,
      "metadata": {
        "pycharm": {}
      },
      "outputs": [
        {
          "data": {
            "text/plain": [
              "22"
            ]
          },
          "execution_count": 67,
          "metadata": {},
          "output_type": "execute_result"
        }
      ],
      "source": [
        "interList\u003dscholarTable.sort_values(by\u003d\u0027中介中心性\u0027,ascending\u003dFalse).head(100).index.intersection(\n",
        "    politicalTable.sort_values(by\u003d\u0027中介中心性\u0027,ascending\u003dFalse).head(100).index)\n",
        "len(interList)"
      ]
    },
    {
      "cell_type": "code",
      "execution_count": 69,
      "metadata": {
        "pycharm": {}
      },
      "outputs": [
        {
          "data": {
            "text/plain": [
              "3"
            ]
          },
          "execution_count": 69,
          "metadata": {},
          "output_type": "execute_result"
        }
      ],
      "source": [
        "interList\u003dscholarTable.sort_values(by\u003d\u0027接近中心性\u0027,ascending\u003dFalse).head(100).index.intersection(\n",
        "    politicalTable.sort_values(by\u003d\u0027接近中心性\u0027,ascending\u003dFalse).head(100).index)\n",
        "len(interList)"
      ]
    },
    {
      "cell_type": "code",
      "execution_count": 63,
      "metadata": {
        "pycharm": {}
      },
      "outputs": [
        {
          "name": "stdout",
          "output_type": "stream",
          "text": [
            "[0.3, 0.4, 0.27, 0.35, 0.36, 0.35, 0.34, 0.34, 0.36, 0.34, 0.35, 0.38, 0.37, 0.36, 0.36, 0.36, 0.34, 0.33, 0.33, 0.33, 0.33, 0.35, 0.35, 0.35, 0.36, 0.35, 0.35, 0.36, 0.36, 0.36, 0.35, 0.35, 0.35, 0.36, 0.36, 0.36, 0.36, 0.36, 0.36, 0.35, 0.36, 0.35, 0.37, 0.37, 0.36, 0.37, 0.37, 0.36, 0.36, 0.37, 0.37, 0.37, 0.37, 0.37, 0.37, 0.38, 0.37, 0.37, 0.37, 0.37, 0.37, 0.36, 0.36, 0.36, 0.36, 0.36, 0.36, 0.36, 0.36, 0.36, 0.36, 0.36, 0.36, 0.36, 0.36, 0.36, 0.36, 0.36, 0.36, 0.36, 0.36, 0.36, 0.36, 0.35, 0.35, 0.35, 0.35, 0.35, 0.35, 0.35, 0.35, 0.36, 0.35, 0.35, 0.35, 0.35, 0.35, 0.35, 0.35]\n"
          ]
        }
      ],
      "source": [
        "test\u003d[]\n",
        "for i in range(10,1000,10):\n",
        "    interList\u003dscholarTable.sort_values(by\u003d\u0027度中心性\u0027,ascending\u003dFalse).head(i).index.intersection(\n",
        "    politicalTable.sort_values(by\u003d\u0027度中心性\u0027,ascending\u003dFalse).head(i).index)\n",
        "    test.append(round(len(interList)/i,2))\n",
        "print(test)"
      ]
    },
    {
      "cell_type": "code",
      "execution_count": 5,
      "metadata": {
        "pycharm": {}
      },
      "outputs": [
        {
          "data": {
            "text/html": [
              "\u003cdiv\u003e\n",
              "\u003cstyle scoped\u003e\n",
              "    .dataframe tbody tr th:only-of-type {\n",
              "        vertical-align: middle;\n",
              "    }\n",
              "\n",
              "    .dataframe tbody tr th {\n",
              "        vertical-align: top;\n",
              "    }\n",
              "\n",
              "    .dataframe thead th {\n",
              "        text-align: right;\n",
              "    }\n",
              "\u003c/style\u003e\n",
              "\u003ctable border\u003d\"1\" class\u003d\"dataframe\"\u003e\n",
              "  \u003cthead\u003e\n",
              "    \u003ctr style\u003d\"text-align: right;\"\u003e\n",
              "      \u003cth\u003e\u003c/th\u003e\n",
              "      \u003cth\u003e度中心性\u003c/th\u003e\n",
              "      \u003cth\u003e中介中心性\u003c/th\u003e\n",
              "      \u003cth\u003e接近中心性\u003c/th\u003e\n",
              "    \u003c/tr\u003e\n",
              "  \u003c/thead\u003e\n",
              "  \u003ctbody\u003e\n",
              "    \u003ctr\u003e\n",
              "      \u003cth\u003e唐\u003c/th\u003e\n",
              "      \u003ctd\u003e0\u003c/td\u003e\n",
              "      \u003ctd\u003e0\u003c/td\u003e\n",
              "      \u003ctd\u003e0\u003c/td\u003e\n",
              "    \u003c/tr\u003e\n",
              "    \u003ctr\u003e\n",
              "      \u003cth\u003e宋\u003c/th\u003e\n",
              "      \u003ctd\u003e34\u003c/td\u003e\n",
              "      \u003ctd\u003e26\u003c/td\u003e\n",
              "      \u003ctd\u003e24\u003c/td\u003e\n",
              "    \u003c/tr\u003e\n",
              "    \u003ctr\u003e\n",
              "      \u003cth\u003e元\u003c/th\u003e\n",
              "      \u003ctd\u003e27\u003c/td\u003e\n",
              "      \u003ctd\u003e22\u003c/td\u003e\n",
              "      \u003ctd\u003e3\u003c/td\u003e\n",
              "    \u003c/tr\u003e\n",
              "    \u003ctr\u003e\n",
              "      \u003cth\u003e明\u003c/th\u003e\n",
              "      \u003ctd\u003e30\u003c/td\u003e\n",
              "      \u003ctd\u003e25\u003c/td\u003e\n",
              "      \u003ctd\u003e12\u003c/td\u003e\n",
              "    \u003c/tr\u003e\n",
              "    \u003ctr\u003e\n",
              "      \u003cth\u003e清\u003c/th\u003e\n",
              "      \u003ctd\u003e2\u003c/td\u003e\n",
              "      \u003ctd\u003e2\u003c/td\u003e\n",
              "      \u003ctd\u003e0\u003c/td\u003e\n",
              "    \u003c/tr\u003e\n",
              "  \u003c/tbody\u003e\n",
              "\u003c/table\u003e\n",
              "\u003c/div\u003e"
            ],
            "text/plain": [
              "   度中心性  中介中心性  接近中心性\n",
              "唐     0      0      0\n",
              "宋    34     26     24\n",
              "元    27     22      3\n",
              "明    30     25     12\n",
              "清     2      2      0"
            ]
          },
          "execution_count": 5,
          "metadata": {},
          "output_type": "execute_result"
        }
      ],
      "source": [
        "data\u003d{\"唐\":[0,0,0],\n",
        "     \"宋\":[34,26,24],\n",
        "     \"元\":[27,22,3],\n",
        "     \"明\":[30,25,12],\n",
        "     \"清\":[2,2,0]}\n",
        "frame\u003dpd.DataFrame(data,index\u003d[\u0027度中心性\u0027,\u0027中介中心性\u0027,\u0027接近中心性\u0027])\n",
        "frame.T"
      ]
    },
    {
      "cell_type": "code",
      "execution_count": 7,
      "metadata": {
        "pycharm": {}
      },
      "outputs": [
        {
          "data": {
            "text/plain": [
              "\u003cmatplotlib.axes._subplots.AxesSubplot at 0x2805521c7b8\u003e"
            ]
          },
          "execution_count": 7,
          "metadata": {},
          "output_type": "execute_result"
        },
        {
          "data": {
            "image/png": "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\u003d\n",
            "text/plain": [
              "\u003cFigure size 432x288 with 1 Axes\u003e"
            ]
          },
          "metadata": {
            "needs_background": "light"
          },
          "output_type": "display_data"
        }
      ],
      "source": [
        "plt.rcParams[\u0027font.sans-serif\u0027] \u003d [\u0027SimHei\u0027]\n",
        "plt.rcParams[\u0027axes.unicode_minus\u0027] \u003d False\n",
        "#plt.figure(figsize\u003d[9,9])\n",
        "axe\u003dplt.subplot()\n",
        "frame.plot(ax\u003daxe)"
      ]
    },
    {
      "cell_type": "code",
      "execution_count": 33,
      "metadata": {
        "pycharm": {}
      },
      "outputs": [
        {
          "data": {
            "image/png": "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\u003d\u003d\n",
            "text/plain": [
              "\u003cFigure size 432x288 with 1 Axes\u003e"
            ]
          },
          "metadata": {
            "needs_background": "light"
          },
          "output_type": "display_data"
        }
      ],
      "source": [
        "import matplotlib.pyplot as plt\n",
        "import pandas as pd\n",
        "\n",
        "\n",
        "data\u003d{\"唐\":[0,0,0],\n",
        "     \"宋\":[34,26,24],\n",
        "     \"元\":[27,22,3],\n",
        "     \"明\":[30,25,12],\n",
        "     \"清\":[2,2,0]}\n",
        "frame\u003dpd.DataFrame(data,index\u003d[\u0027度中心性\u0027,\u0027中介中心性\u0027,\u0027接近中心性\u0027])\n",
        "\n",
        "plt.rcParams[\u0027font.sans-serif\u0027] \u003d [\u0027SimHei\u0027]\n",
        "plt.rcParams[\u0027axes.unicode_minus\u0027] \u003d False\n",
        "fig\u003dplt.figure()\n",
        "ax\u003dfig.add_subplot(1,1,1)\n",
        "ax.plot(frame[\"唐\"],marker\u003d\u0027s\u0027,linestyle\u003d\"--\")\n",
        "ax.plot(frame[\"宋\"],marker\u003d\u0027o\u0027,linestyle\u003d\"--\")\n",
        "ax.plot(frame[\"元\"],marker\u003d\u0027^\u0027,linestyle\u003d\"--\")\n",
        "ax.plot(frame[\"明\"],marker\u003d\u0027*\u0027,linestyle\u003d\"--\")\n",
        "ax.plot(frame[\"清\"],marker\u003d\u0027+\u0027,linestyle\u003d\"--\")\n",
        "ax.legend(loc\u003d\"best\")\n",
        "plt.show()\n"
      ]
    },
    {
      "cell_type": "code",
      "execution_count": 15,
      "metadata": {
        "pycharm": {}
      },
      "outputs": [
        {
          "data": {
            "text/html": [
              "\u003cdiv\u003e\n",
              "\u003cstyle scoped\u003e\n",
              "    .dataframe tbody tr th:only-of-type {\n",
              "        vertical-align: middle;\n",
              "    }\n",
              "\n",
              "    .dataframe tbody tr th {\n",
              "        vertical-align: top;\n",
              "    }\n",
              "\n",
              "    .dataframe thead th {\n",
              "        text-align: right;\n",
              "    }\n",
              "\u003c/style\u003e\n",
              "\u003ctable border\u003d\"1\" class\u003d\"dataframe\"\u003e\n",
              "  \u003cthead\u003e\n",
              "    \u003ctr style\u003d\"text-align: right;\"\u003e\n",
              "      \u003cth\u003e\u003c/th\u003e\n",
              "      \u003cth\u003e关系数量\u003c/th\u003e\n",
              "    \u003c/tr\u003e\n",
              "    \u003ctr\u003e\n",
              "      \u003cth\u003e朝代\u003c/th\u003e\n",
              "      \u003cth\u003e\u003c/th\u003e\n",
              "    \u003c/tr\u003e\n",
              "  \u003c/thead\u003e\n",
              "  \u003ctbody\u003e\n",
              "    \u003ctr\u003e\n",
              "      \u003cth\u003e唐\u003c/th\u003e\n",
              "      \u003ctd\u003e386\u003c/td\u003e\n",
              "    \u003c/tr\u003e\n",
              "    \u003ctr\u003e\n",
              "      \u003cth\u003e宋\u003c/th\u003e\n",
              "      \u003ctd\u003e67337\u003c/td\u003e\n",
              "    \u003c/tr\u003e\n",
              "    \u003ctr\u003e\n",
              "      \u003cth\u003e元\u003c/th\u003e\n",
              "      \u003ctd\u003e27156\u003c/td\u003e\n",
              "    \u003c/tr\u003e\n",
              "    \u003ctr\u003e\n",
              "      \u003cth\u003e明\u003c/th\u003e\n",
              "      \u003ctd\u003e27919\u003c/td\u003e\n",
              "    \u003c/tr\u003e\n",
              "    \u003ctr\u003e\n",
              "      \u003cth\u003e清\u003c/th\u003e\n",
              "      \u003ctd\u003e4215\u003c/td\u003e\n",
              "    \u003c/tr\u003e\n",
              "    \u003ctr\u003e\n",
              "      \u003cth\u003e总计\u003c/th\u003e\n",
              "      \u003ctd\u003e127013\u003c/td\u003e\n",
              "    \u003c/tr\u003e\n",
              "  \u003c/tbody\u003e\n",
              "\u003c/table\u003e\n",
              "\u003c/div\u003e"
            ],
            "text/plain": [
              "      关系数量\n",
              "朝代        \n",
              "唐      386\n",
              "宋    67337\n",
              "元    27156\n",
              "明    27919\n",
              "清     4215\n",
              "总计  127013"
            ]
          },
          "execution_count": 15,
          "metadata": {},
          "output_type": "execute_result"
        }
      ],
      "source": [
        "from main.connectToAccess import getData\n",
        "import pandas as pd\n",
        "dynasties\u003d{\n",
        "    \u0027唐\u0027:[618,907],\n",
        "    \u0027宋\u0027:[960,1279],\n",
        "    \u0027元\u0027:[1234,1367],\n",
        "    \u0027明\u0027:[1368,1644],\n",
        "    \u0027清\u0027:[1644,1911]\n",
        "}\n",
        "#collect\u003dpd.DataFrame(columns\u003d[\u0027朝代\u0027，\u0027关系数量\u0027])\n",
        "list\u003d[]\n",
        "name\u003d[]\n",
        "for key,value in dynasties.items():\n",
        "    count\u003dgetData(start\u003dvalue[0],end\u003dvalue[1]).count()[0]\n",
        "    list.append(count)\n",
        "    name.append(key)\n",
        "table\u003dpd.DataFrame(list,index\u003dname,columns\u003d[\"关系数量\"])\n",
        "table.index.name\u003d\"朝代\"\n",
        "table.loc[\"总计\"]\u003dtable.sum()\n",
        "table"
      ]
    }
  ],
  "metadata": {
    "kernelspec": {
      "display_name": "Python 3",
      "language": "python",
      "name": "python3"
    },
    "language_info": {
      "codemirror_mode": {
        "name": "ipython",
        "version": 3
      },
      "file_extension": ".py",
      "mimetype": "text/x-python",
      "name": "python",
      "nbconvert_exporter": "python",
      "pygments_lexer": "ipython3",
      "version": "3.6.7"
    }
  },
  "nbformat": 4,
  "nbformat_minor": 2
}